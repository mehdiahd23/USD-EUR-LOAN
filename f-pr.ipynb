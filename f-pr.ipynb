{
 "cells": [
  {
   "cell_type": "markdown",
   "id": "2dd3da43-2259-495a-a68f-6b462c4b55f1",
   "metadata": {},
   "source": [
    "**Importing Libraries and Packages**"
   ]
  },
  {
   "cell_type": "code",
   "execution_count": 4,
   "id": "94811ab1-7f1a-484c-ad67-87a3e3aded70",
   "metadata": {},
   "outputs": [],
   "source": [
    "import numpy as np"
   ]
  },
  {
   "cell_type": "code",
   "execution_count": 5,
   "id": "896f148c-18cf-4cdc-ad92-0ae05c04fd19",
   "metadata": {},
   "outputs": [],
   "source": [
    "np.set_printoptions(suppress = True, linewidth = 100 , precision = 2) "
   ]
  },
  {
   "cell_type": "markdown",
   "id": "c181a3fd-7fee-4b72-be39-34906cc54c54",
   "metadata": {},
   "source": [
    "**‌Importing Data**"
   ]
  },
  {
   "cell_type": "code",
   "execution_count": 6,
   "id": "aac3812d-69ef-4954-8229-018249f3ddff",
   "metadata": {},
   "outputs": [
    {
     "data": {
      "text/plain": [
       "array([[48010226.  ,         nan,    35000.  , ...,         nan,         nan,     9452.96],\n",
       "       [57693261.  ,         nan,    30000.  , ...,         nan,         nan,     4679.7 ],\n",
       "       [59432726.  ,         nan,    15000.  , ...,         nan,         nan,     1969.83],\n",
       "       ...,\n",
       "       [50415990.  ,         nan,    10000.  , ...,         nan,         nan,     2185.64],\n",
       "       [46154151.  ,         nan,         nan, ...,         nan,         nan,     3199.4 ],\n",
       "       [66055249.  ,         nan,    10000.  , ...,         nan,         nan,      301.9 ]])"
      ]
     },
     "execution_count": 6,
     "metadata": {},
     "output_type": "execute_result"
    }
   ],
   "source": [
    "raw_data = np.genfromtxt('loan-data.csv', delimiter = ';', encoding = 'latin-1', skip_header = 1)\n",
    "raw_data"
   ]
  },
  {
   "cell_type": "markdown",
   "id": "0a63716f-4248-49fa-abb7-3ecbf7d5cbaf",
   "metadata": {},
   "source": [
    "**‌Checking for incomplete Data**"
   ]
  },
  {
   "cell_type": "code",
   "execution_count": 7,
   "id": "c7d63743-3953-470b-8f37-04157fadd8d1",
   "metadata": {},
   "outputs": [
    {
     "data": {
      "text/plain": [
       "88005"
      ]
     },
     "execution_count": 7,
     "metadata": {},
     "output_type": "execute_result"
    }
   ],
   "source": [
    "np.isnan(raw_data).sum()"
   ]
  },
  {
   "cell_type": "code",
   "execution_count": 8,
   "id": "ab74b1ec-6b74-41bb-915e-fd3ca8244797",
   "metadata": {},
   "outputs": [
    {
     "name": "stderr",
     "output_type": "stream",
     "text": [
      "/var/folders/ks/jkjfh7l92w55vt0hc51b8spr0000gn/T/ipykernel_1348/314499198.py:2: RuntimeWarning: Mean of empty slice\n",
      "  temp_mean = np.nanmean(raw_data, axis = 0)\n"
     ]
    }
   ],
   "source": [
    "temp_fill = np.nanmax(raw_data)+1\n",
    "temp_mean = np.nanmean(raw_data, axis = 0)"
   ]
  },
  {
   "cell_type": "code",
   "execution_count": 9,
   "id": "e7dde5b7-01a4-4acf-a464-3fc7fc66bc28",
   "metadata": {},
   "outputs": [
    {
     "data": {
      "text/plain": [
       "array([54015809.19,         nan,    15273.46,         nan,    15311.04,         nan,       16.62,\n",
       "            440.92,         nan,         nan,         nan,         nan,         nan,     3143.85])"
      ]
     },
     "execution_count": 9,
     "metadata": {},
     "output_type": "execute_result"
    }
   ],
   "source": [
    "temp_mean"
   ]
  },
  {
   "cell_type": "code",
   "execution_count": 10,
   "id": "8d907b68-609d-48fc-b776-71770c016bae",
   "metadata": {},
   "outputs": [
    {
     "name": "stderr",
     "output_type": "stream",
     "text": [
      "/var/folders/ks/jkjfh7l92w55vt0hc51b8spr0000gn/T/ipykernel_1348/1250670646.py:1: RuntimeWarning: All-NaN slice encountered\n",
      "  temp_stats = np.array([np.nanmin(raw_data, axis = 0),temp_mean,np.nanmax(raw_data, axis = 0)])\n"
     ]
    }
   ],
   "source": [
    "temp_stats = np.array([np.nanmin(raw_data, axis = 0),temp_mean,np.nanmax(raw_data, axis = 0)])"
   ]
  },
  {
   "cell_type": "code",
   "execution_count": 11,
   "id": "6cdc8bad-decf-4212-a2a6-e953fb0168b4",
   "metadata": {},
   "outputs": [
    {
     "data": {
      "text/plain": [
       "array([[  373332.  ,         nan,     1000.  ,         nan,     1000.  ,         nan,        6.  ,\n",
       "              31.42,         nan,         nan,         nan,         nan,         nan,        0.  ],\n",
       "       [54015809.19,         nan,    15273.46,         nan,    15311.04,         nan,       16.62,\n",
       "             440.92,         nan,         nan,         nan,         nan,         nan,     3143.85],\n",
       "       [68616519.  ,         nan,    35000.  ,         nan,    35000.  ,         nan,       28.99,\n",
       "            1372.97,         nan,         nan,         nan,         nan,         nan,    41913.62]])"
      ]
     },
     "execution_count": 11,
     "metadata": {},
     "output_type": "execute_result"
    }
   ],
   "source": [
    "temp_stats"
   ]
  },
  {
   "cell_type": "markdown",
   "id": "30754f4d-6684-4418-b155-8b3d36d77c48",
   "metadata": {},
   "source": [
    "**‌Splitting The Dataset**"
   ]
  },
  {
   "cell_type": "code",
   "execution_count": 12,
   "id": "cc5180d6-c782-4ffa-92ba-3630728535c2",
   "metadata": {},
   "outputs": [
    {
     "data": {
      "text/plain": [
       "array([ 1,  3,  5,  8,  9, 10, 11, 12])"
      ]
     },
     "execution_count": 12,
     "metadata": {},
     "output_type": "execute_result"
    }
   ],
   "source": [
    "col_str = np.argwhere(np.isnan(temp_mean)).squeeze()\n",
    "col_str"
   ]
  },
  {
   "cell_type": "code",
   "execution_count": 13,
   "id": "e9f1b477-34ad-4871-a844-fee108651e23",
   "metadata": {},
   "outputs": [
    {
     "data": {
      "text/plain": [
       "array([ 0,  2,  4,  6,  7, 13])"
      ]
     },
     "execution_count": 13,
     "metadata": {},
     "output_type": "execute_result"
    }
   ],
   "source": [
    "col_num = np.argwhere(np.isnan(temp_mean)==False).squeeze()\n",
    "col_num"
   ]
  },
  {
   "cell_type": "markdown",
   "id": "8395973c-da58-4fef-a996-b5ca8fab5459",
   "metadata": {},
   "source": [
    "**‌Re-importing The Dataset**"
   ]
  },
  {
   "cell_type": "code",
   "execution_count": 14,
   "id": "5770f093-8ac8-4315-b6f9-91a5408bfff1",
   "metadata": {},
   "outputs": [
    {
     "data": {
      "text/plain": [
       "array([['May-15', 'Current', '36 months', ..., 'Verified',\n",
       "        'https://www.lendingclub.com/browse/loanDetail.action?loan_id=48010226', 'CA'],\n",
       "       ['', 'Current', '36 months', ..., 'Source Verified',\n",
       "        'https://www.lendingclub.com/browse/loanDetail.action?loan_id=57693261', 'NY'],\n",
       "       ['Sep-15', 'Current', '36 months', ..., 'Verified',\n",
       "        'https://www.lendingclub.com/browse/loanDetail.action?loan_id=59432726', 'PA'],\n",
       "       ...,\n",
       "       ['Jun-15', 'Current', '36 months', ..., 'Source Verified',\n",
       "        'https://www.lendingclub.com/browse/loanDetail.action?loan_id=50415990', 'CA'],\n",
       "       ['Apr-15', 'Current', '36 months', ..., 'Source Verified',\n",
       "        'https://www.lendingclub.com/browse/loanDetail.action?loan_id=46154151', 'OH'],\n",
       "       ['Dec-15', 'Current', '36 months', ..., '',\n",
       "        'https://www.lendingclub.com/browse/loanDetail.action?loan_id=66055249', 'IL']],\n",
       "      dtype='<U69')"
      ]
     },
     "execution_count": 14,
     "metadata": {},
     "output_type": "execute_result"
    }
   ],
   "source": [
    "loan_data_str = np.genfromtxt('loan-data.csv', delimiter = ';' , autostrip=True, skip_header = 1, usecols = col_str, dtype = str, encoding = 'Latin-1')\n",
    "loan_data_str"
   ]
  },
  {
   "cell_type": "code",
   "execution_count": 15,
   "id": "7c695207-e63b-4181-9bdb-3c105ca9b80e",
   "metadata": {},
   "outputs": [
    {
     "data": {
      "text/plain": [
       "array([[48010226.  ,    35000.  ,    35000.  ,       13.33,     1184.86,     9452.96],\n",
       "       [57693261.  ,    30000.  ,    30000.  , 68616520.  ,      938.57,     4679.7 ],\n",
       "       [59432726.  ,    15000.  ,    15000.  , 68616520.  ,      494.86,     1969.83],\n",
       "       ...,\n",
       "       [50415990.  ,    10000.  ,    10000.  , 68616520.  , 68616520.  ,     2185.64],\n",
       "       [46154151.  , 68616520.  ,    10000.  ,       16.55,      354.3 ,     3199.4 ],\n",
       "       [66055249.  ,    10000.  ,    10000.  , 68616520.  ,      309.97,      301.9 ]])"
      ]
     },
     "execution_count": 15,
     "metadata": {},
     "output_type": "execute_result"
    }
   ],
   "source": [
    "loan_data_num = np.genfromtxt('loan-data.csv', delimiter = ';' , autostrip=True, skip_header = 1, usecols = col_num, dtype = np.number, encoding = 'Latin-1', filling_values = temp_fill)\n",
    "loan_data_num"
   ]
  },
  {
   "cell_type": "markdown",
   "id": "ce922574-c30f-44f6-b2ec-b3458f86b149",
   "metadata": {},
   "source": [
    "**‌Headers Name**"
   ]
  },
  {
   "cell_type": "code",
   "execution_count": 16,
   "id": "fdbe5639-a204-411e-bea2-1d0b5f9e2095",
   "metadata": {},
   "outputs": [
    {
     "data": {
      "text/plain": [
       "array(['id', 'issue_d', 'loan_amnt', 'loan_status', 'funded_amnt', 'term', 'int_rate',\n",
       "       'installment', 'grade', 'sub_grade', 'verification_status', 'url', 'addr_state',\n",
       "       'total_pymnt'], dtype='<U19')"
      ]
     },
     "execution_count": 16,
     "metadata": {},
     "output_type": "execute_result"
    }
   ],
   "source": [
    "w_header = np.genfromtxt('loan-data.csv', delimiter = ';' , autostrip=True, skip_footer = raw_data.shape[0], dtype = str, encoding = 'Latin-1')\n",
    "w_header"
   ]
  },
  {
   "cell_type": "code",
   "execution_count": 17,
   "id": "2e87e838-d438-4b6b-8eef-6385833029ac",
   "metadata": {},
   "outputs": [],
   "source": [
    "header_str , header_num = w_header[col_str], w_header[col_num]"
   ]
  },
  {
   "cell_type": "markdown",
   "id": "63a41186-dddc-4d96-bcf0-14cdefcee67f",
   "metadata": {},
   "source": [
    "**Manipulating col_str**\n",
    "‌Issue Date"
   ]
  },
  {
   "cell_type": "code",
   "execution_count": 18,
   "id": "dec85e87-7a60-430d-864c-053d5de16760",
   "metadata": {},
   "outputs": [
    {
     "data": {
      "text/plain": [
       "array(['May-15', '', 'Sep-15', ..., 'Jun-15', 'Apr-15', 'Dec-15'], dtype='<U69')"
      ]
     },
     "execution_count": 18,
     "metadata": {},
     "output_type": "execute_result"
    }
   ],
   "source": [
    "loan_data_str[:,0]"
   ]
  },
  {
   "cell_type": "code",
   "execution_count": 19,
   "id": "e518def0-e58e-49d8-b0c4-7e715cbdda87",
   "metadata": {},
   "outputs": [],
   "source": [
    "loan_data_str[:,0] = np.chararray.strip(loan_data_str[:,0],\"-15\")"
   ]
  },
  {
   "cell_type": "code",
   "execution_count": 20,
   "id": "ef91cf54-6570-47d0-a2a7-d2838da76791",
   "metadata": {},
   "outputs": [
    {
     "data": {
      "text/plain": [
       "array(['', 'Apr', 'Aug', 'Dec', 'Feb', 'Jan', 'Jul', 'Jun', 'Mar', 'May', 'Nov', 'Oct', 'Sep'],\n",
       "      dtype='<U69')"
      ]
     },
     "execution_count": 20,
     "metadata": {},
     "output_type": "execute_result"
    }
   ],
   "source": [
    "np.unique(loan_data_str[:,0])"
   ]
  },
  {
   "cell_type": "code",
   "execution_count": 21,
   "id": "ccbbaaaf-f815-4825-8ee3-9e0f2d1f1cad",
   "metadata": {},
   "outputs": [],
   "source": [
    "month = np.array(['','Jan','Feb','Mar','Apr','May','Jun','Jul','Aug','Sep','Oct','Nov','Dec'])"
   ]
  },
  {
   "cell_type": "code",
   "execution_count": 22,
   "id": "32516130-cab1-4785-af5f-a29100b6e3a8",
   "metadata": {},
   "outputs": [],
   "source": [
    "for i in range(13):\n",
    "    loan_data_str[:,0] = np.where(loan_data_str[:,0] == month[i], i, loan_data_str[:,0])"
   ]
  },
  {
   "cell_type": "code",
   "execution_count": 23,
   "id": "b10ab503-7218-4579-8e7d-0fe9727958da",
   "metadata": {},
   "outputs": [
    {
     "data": {
      "text/plain": [
       "array(['0', '1', '10', '11', '12', '2', '3', '4', '5', '6', '7', '8', '9'], dtype='<U69')"
      ]
     },
     "execution_count": 23,
     "metadata": {},
     "output_type": "execute_result"
    }
   ],
   "source": [
    "np.unique(loan_data_str[:,0])"
   ]
  },
  {
   "cell_type": "markdown",
   "id": "05e288ec-cd5b-4f10-8055-9954c8f8bdf7",
   "metadata": {},
   "source": [
    "**Manipulating col_str**\n",
    "‌Loan Status"
   ]
  },
  {
   "cell_type": "code",
   "execution_count": 24,
   "id": "22cf1b5b-2ce4-4698-98ac-3e45d3e1cc49",
   "metadata": {},
   "outputs": [
    {
     "data": {
      "text/plain": [
       "array(['', 'Charged Off', 'Current', 'Default', 'Fully Paid', 'In Grace Period', 'Issued',\n",
       "       'Late (16-30 days)', 'Late (31-120 days)'], dtype='<U69')"
      ]
     },
     "execution_count": 24,
     "metadata": {},
     "output_type": "execute_result"
    }
   ],
   "source": [
    "np.unique(loan_data_str[:,1])"
   ]
  },
  {
   "cell_type": "code",
   "execution_count": 25,
   "id": "87650d0d-8ba4-4f2f-8b7c-0a52eeeeac83",
   "metadata": {},
   "outputs": [
    {
     "data": {
      "text/plain": [
       "9"
      ]
     },
     "execution_count": 25,
     "metadata": {},
     "output_type": "execute_result"
    }
   ],
   "source": [
    "np.unique(loan_data_str[:,1]).size"
   ]
  },
  {
   "cell_type": "code",
   "execution_count": 26,
   "id": "bf58ddd9-e73f-4d93-95c5-db34ddc2dcd0",
   "metadata": {},
   "outputs": [],
   "source": [
    "bad_status = np.array(['', 'Charged Off', 'Default', 'Late (31-120 days)'])"
   ]
  },
  {
   "cell_type": "code",
   "execution_count": 27,
   "id": "a132aba4-073d-48d8-bf3c-8b6c51f213a6",
   "metadata": {},
   "outputs": [],
   "source": [
    "loan_data_str[:,1] = np.where(np.isin(loan_data_str[:,1],bad_status),0,1)"
   ]
  },
  {
   "cell_type": "code",
   "execution_count": 28,
   "id": "eff94411-aac1-4668-a5d6-73493e979a28",
   "metadata": {},
   "outputs": [
    {
     "data": {
      "text/plain": [
       "array(['0', '1'], dtype='<U69')"
      ]
     },
     "execution_count": 28,
     "metadata": {},
     "output_type": "execute_result"
    }
   ],
   "source": [
    "np.unique(loan_data_str[:,1])"
   ]
  },
  {
   "cell_type": "markdown",
   "id": "20dc7c39-60e5-4468-96c3-5540b42a8c99",
   "metadata": {},
   "source": [
    "**Manipulating col_str**\n",
    "Term"
   ]
  },
  {
   "cell_type": "code",
   "execution_count": 29,
   "id": "bc4aa6f0-5a80-4321-8d19-4c652ae487e4",
   "metadata": {},
   "outputs": [
    {
     "data": {
      "text/plain": [
       "array(['36 months', '36 months', '36 months', ..., '36 months', '36 months', '36 months'],\n",
       "      dtype='<U69')"
      ]
     },
     "execution_count": 29,
     "metadata": {},
     "output_type": "execute_result"
    }
   ],
   "source": [
    "loan_data_str[:,2]"
   ]
  },
  {
   "cell_type": "code",
   "execution_count": 30,
   "id": "776de7b6-d206-4687-87b4-27bde676ef46",
   "metadata": {},
   "outputs": [
    {
     "data": {
      "text/plain": [
       "array(['', '36 months', '60 months'], dtype='<U69')"
      ]
     },
     "execution_count": 30,
     "metadata": {},
     "output_type": "execute_result"
    }
   ],
   "source": [
    "np.unique(loan_data_str[:,2])"
   ]
  },
  {
   "cell_type": "code",
   "execution_count": 31,
   "id": "2e9e24dd-e503-4e7f-a4e3-68ecd4cae23b",
   "metadata": {},
   "outputs": [],
   "source": [
    "loan_data_str[:,2] = np.chararray.strip(loan_data_str[:,2],\" months\")"
   ]
  },
  {
   "cell_type": "code",
   "execution_count": 32,
   "id": "5b44e59b-7a03-4cfb-9e48-1b15f9183fae",
   "metadata": {},
   "outputs": [
    {
     "data": {
      "text/plain": [
       "array(['', '36', '60'], dtype='<U69')"
      ]
     },
     "execution_count": 32,
     "metadata": {},
     "output_type": "execute_result"
    }
   ],
   "source": [
    "np.unique(loan_data_str[:,2])"
   ]
  },
  {
   "cell_type": "code",
   "execution_count": 33,
   "id": "e079656d-5702-460e-9bab-4344826f91ab",
   "metadata": {},
   "outputs": [],
   "source": [
    "header_str[2] = \"term_month\""
   ]
  },
  {
   "cell_type": "code",
   "execution_count": 34,
   "id": "96a01096-72dd-4896-bcec-38ee75c5be37",
   "metadata": {},
   "outputs": [],
   "source": [
    "loan_data_str[:,2] = np.where(loan_data_str[:,2] == '' , '60',loan_data_str[:,2])"
   ]
  },
  {
   "cell_type": "code",
   "execution_count": 35,
   "id": "a56e7bc1-822c-452c-b6cd-c501a6912b7a",
   "metadata": {},
   "outputs": [
    {
     "data": {
      "text/plain": [
       "array(['36', '60'], dtype='<U69')"
      ]
     },
     "execution_count": 35,
     "metadata": {},
     "output_type": "execute_result"
    }
   ],
   "source": [
    "np.unique(loan_data_str[:,2])"
   ]
  },
  {
   "cell_type": "markdown",
   "id": "72b898d0-98ba-4e43-9d6a-7f952f96bcb3",
   "metadata": {},
   "source": [
    "**Manipulating col_str**\n",
    "grade , sub_grade"
   ]
  },
  {
   "cell_type": "code",
   "execution_count": 36,
   "id": "50ef11af-27eb-43a1-b357-a7464b336c82",
   "metadata": {},
   "outputs": [
    {
     "data": {
      "text/plain": [
       "array(['issue_d', 'loan_status', 'term_month', 'grade', 'sub_grade', 'verification_status', 'url',\n",
       "       'addr_state'], dtype='<U19')"
      ]
     },
     "execution_count": 36,
     "metadata": {},
     "output_type": "execute_result"
    }
   ],
   "source": [
    "header_str"
   ]
  },
  {
   "cell_type": "code",
   "execution_count": 37,
   "id": "aed0ea91-2567-41f2-adcd-4ffe617c1c9f",
   "metadata": {},
   "outputs": [
    {
     "data": {
      "text/plain": [
       "array(['', 'A', 'B', 'C', 'D', 'E', 'F', 'G'], dtype='<U69')"
      ]
     },
     "execution_count": 37,
     "metadata": {},
     "output_type": "execute_result"
    }
   ],
   "source": [
    "np.unique(loan_data_str[:,3])"
   ]
  },
  {
   "cell_type": "code",
   "execution_count": 38,
   "id": "1704d837-4381-48f9-aba0-7ff8a7bf63d7",
   "metadata": {},
   "outputs": [
    {
     "data": {
      "text/plain": [
       "array(['', 'A1', 'A2', 'A3', 'A4', 'A5', 'B1', 'B2', 'B3', 'B4', 'B5', 'C1', 'C2', 'C3', 'C4',\n",
       "       'C5', 'D1', 'D2', 'D3', 'D4', 'D5', 'E1', 'E2', 'E3', 'E4', 'E5', 'F1', 'F2', 'F3', 'F4',\n",
       "       'F5', 'G1', 'G2', 'G3', 'G4', 'G5'], dtype='<U69')"
      ]
     },
     "execution_count": 38,
     "metadata": {},
     "output_type": "execute_result"
    }
   ],
   "source": [
    "np.unique(loan_data_str[:,4])"
   ]
  },
  {
   "cell_type": "code",
   "execution_count": 39,
   "id": "0ba69bfb-d20e-4131-b22a-9a8083da15d5",
   "metadata": {},
   "outputs": [],
   "source": [
    "for i in np.unique(loan_data_str[:,3])[1:]:\n",
    "    loan_data_str[:,4] = np.where((loan_data_str[:,4] == '') & (loan_data_str[:,3] == i),i+'5',loan_data_str[:,4])"
   ]
  },
  {
   "cell_type": "code",
   "execution_count": 40,
   "id": "81f2b560-97f9-4795-9a00-ec10c276739d",
   "metadata": {},
   "outputs": [
    {
     "data": {
      "text/plain": [
       "(array(['', 'A1', 'A2', 'A3', 'A4', 'A5', 'B1', 'B2', 'B3', 'B4', 'B5', 'C1', 'C2', 'C3', 'C4',\n",
       "        'C5', 'D1', 'D2', 'D3', 'D4', 'D5', 'E1', 'E2', 'E3', 'E4', 'E5', 'F1', 'F2', 'F3', 'F4',\n",
       "        'F5', 'G1', 'G2', 'G3', 'G4', 'G5'], dtype='<U69'),\n",
       " array([  9, 285, 278, 239, 323, 592, 509, 517, 530, 553, 633, 629, 567, 586, 564, 577, 391, 267,\n",
       "        250, 255, 288, 235, 162, 171, 139, 160,  94,  52,  34,  43,  24,  19,  10,   3,   7,   5]))"
      ]
     },
     "execution_count": 40,
     "metadata": {},
     "output_type": "execute_result"
    }
   ],
   "source": [
    "np.unique(loan_data_str[:,4],return_counts= True)"
   ]
  },
  {
   "cell_type": "code",
   "execution_count": 41,
   "id": "fb7ee4df-cd0c-4e1c-a754-6d0c4a83bd59",
   "metadata": {},
   "outputs": [],
   "source": [
    "loan_data_str[:,4] = np.where(loan_data_str[:,4] == '', 'H1',loan_data_str[:,4])"
   ]
  },
  {
   "cell_type": "code",
   "execution_count": 42,
   "id": "c76e20de-c4b7-4433-bf83-c6b83b154f57",
   "metadata": {},
   "outputs": [
    {
     "data": {
      "text/plain": [
       "array(['A1', 'A2', 'A3', 'A4', 'A5', 'B1', 'B2', 'B3', 'B4', 'B5', 'C1', 'C2', 'C3', 'C4', 'C5',\n",
       "       'D1', 'D2', 'D3', 'D4', 'D5', 'E1', 'E2', 'E3', 'E4', 'E5', 'F1', 'F2', 'F3', 'F4', 'F5',\n",
       "       'G1', 'G2', 'G3', 'G4', 'G5', 'H1'], dtype='<U69')"
      ]
     },
     "execution_count": 42,
     "metadata": {},
     "output_type": "execute_result"
    }
   ],
   "source": [
    "np.unique(loan_data_str[:,4])"
   ]
  },
  {
   "cell_type": "markdown",
   "id": "556704b2-5596-419e-a5bf-fb36ab45d211",
   "metadata": {},
   "source": [
    "Removing grade"
   ]
  },
  {
   "cell_type": "code",
   "execution_count": 43,
   "id": "62e7fe6c-ae07-47dc-9a42-4b040b00f3c2",
   "metadata": {},
   "outputs": [],
   "source": [
    "loan_data_str = np.delete(loan_data_str,3,axis = 1)"
   ]
  },
  {
   "cell_type": "code",
   "execution_count": 44,
   "id": "e219c7bd-62d7-482d-86b1-6f56953fe95a",
   "metadata": {},
   "outputs": [
    {
     "data": {
      "text/plain": [
       "array(['C3', 'A5', 'B5', ..., 'A5', 'D2', 'A4'], dtype='<U69')"
      ]
     },
     "execution_count": 44,
     "metadata": {},
     "output_type": "execute_result"
    }
   ],
   "source": [
    "loan_data_str[:,3]"
   ]
  },
  {
   "cell_type": "code",
   "execution_count": 45,
   "id": "37cdedad-15f9-40da-bd50-b21303726a05",
   "metadata": {},
   "outputs": [],
   "source": [
    "header_str = np.delete(header_str,3)"
   ]
  },
  {
   "cell_type": "code",
   "execution_count": 46,
   "id": "a3dd9eb4-fb7d-48f5-9cfa-03bd839ab07e",
   "metadata": {},
   "outputs": [
    {
     "data": {
      "text/plain": [
       "array(['issue_d', 'loan_status', 'term_month', 'sub_grade', 'verification_status', 'url',\n",
       "       'addr_state'], dtype='<U19')"
      ]
     },
     "execution_count": 46,
     "metadata": {},
     "output_type": "execute_result"
    }
   ],
   "source": [
    "header_str"
   ]
  },
  {
   "cell_type": "code",
   "execution_count": 47,
   "id": "685e58f4-f266-4817-89b8-f79c076dceaf",
   "metadata": {},
   "outputs": [
    {
     "data": {
      "text/plain": [
       "array(['C3', 'A5', 'B5', ..., 'A5', 'D2', 'A4'], dtype='<U69')"
      ]
     },
     "execution_count": 47,
     "metadata": {},
     "output_type": "execute_result"
    }
   ],
   "source": [
    "loan_data_str[:,3]"
   ]
  },
  {
   "cell_type": "markdown",
   "id": "6a5bbe0c-3efd-4ce4-9dc3-68675fd15c38",
   "metadata": {},
   "source": [
    "Filling Sub-grade"
   ]
  },
  {
   "cell_type": "code",
   "execution_count": 48,
   "id": "6a9c9be3-40d7-4080-ad11-66a08fa0f8ee",
   "metadata": {},
   "outputs": [
    {
     "data": {
      "text/plain": [
       "36"
      ]
     },
     "execution_count": 48,
     "metadata": {},
     "output_type": "execute_result"
    }
   ],
   "source": [
    "np.unique(loan_data_str[:,3]).size"
   ]
  },
  {
   "cell_type": "code",
   "execution_count": 49,
   "id": "b3f14737-8db4-4aab-9b8a-44550914935c",
   "metadata": {},
   "outputs": [
    {
     "data": {
      "text/plain": [
       "array(['A1', 'A2', 'A3', 'A4', 'A5', 'B1', 'B2', 'B3', 'B4', 'B5', 'C1', 'C2', 'C3', 'C4', 'C5',\n",
       "       'D1', 'D2', 'D3', 'D4', 'D5', 'E1', 'E2', 'E3', 'E4', 'E5', 'F1', 'F2', 'F3', 'F4', 'F5',\n",
       "       'G1', 'G2', 'G3', 'G4', 'G5', 'H1'], dtype='<U69')"
      ]
     },
     "execution_count": 49,
     "metadata": {},
     "output_type": "execute_result"
    }
   ],
   "source": [
    "np.unique(loan_data_str[:,3])"
   ]
  },
  {
   "cell_type": "code",
   "execution_count": 50,
   "id": "7a759e6a-236f-4752-b13a-ebfa8b6247a6",
   "metadata": {},
   "outputs": [],
   "source": [
    "keys = list(np.unique(loan_data_str[:,3]))"
   ]
  },
  {
   "cell_type": "code",
   "execution_count": 51,
   "id": "f4ce87ce-53fd-4845-804e-b73a84372848",
   "metadata": {},
   "outputs": [],
   "source": [
    "values = list(range(1,np.unique(loan_data_str[:,3]).shape[0]+1))"
   ]
  },
  {
   "cell_type": "code",
   "execution_count": 52,
   "id": "c56d0243-7b21-4ef5-8caf-4588315cb691",
   "metadata": {},
   "outputs": [],
   "source": [
    "dict_sub_grade = dict(zip(keys,values))"
   ]
  },
  {
   "cell_type": "code",
   "execution_count": 53,
   "id": "76d2a4a8-86d6-48f9-93f5-bf84691da83b",
   "metadata": {},
   "outputs": [
    {
     "data": {
      "text/plain": [
       "1"
      ]
     },
     "execution_count": 53,
     "metadata": {},
     "output_type": "execute_result"
    }
   ],
   "source": [
    "dict_sub_grade['A1']"
   ]
  },
  {
   "cell_type": "code",
   "execution_count": 54,
   "id": "0f3d1e81-5f59-4342-912c-0dbe003b4f08",
   "metadata": {},
   "outputs": [],
   "source": [
    "for i in np.unique(loan_data_str[:,3]):\n",
    "    loan_data_str[:,3] = np.where(loan_data_str[:,3] == i,dict_sub_grade[i],loan_data_str[:,3]) "
   ]
  },
  {
   "cell_type": "code",
   "execution_count": 55,
   "id": "1d5fd776-8ebd-45bd-92a0-c7b12e0a97e0",
   "metadata": {},
   "outputs": [
    {
     "data": {
      "text/plain": [
       "array(['1', '10', '11', '12', '13', '14', '15', '16', '17', '18', '19', '2', '20', '21', '22',\n",
       "       '23', '24', '25', '26', '27', '28', '29', '3', '30', '31', '32', '33', '34', '35', '36',\n",
       "       '4', '5', '6', '7', '8', '9'], dtype='<U69')"
      ]
     },
     "execution_count": 55,
     "metadata": {},
     "output_type": "execute_result"
    }
   ],
   "source": [
    "np.unique(loan_data_str[:,3])"
   ]
  },
  {
   "cell_type": "markdown",
   "id": "72fdc1d0-e999-42fc-800c-4589dfea631e",
   "metadata": {},
   "source": [
    "**Manipulating col_str**\n",
    "verification status"
   ]
  },
  {
   "cell_type": "code",
   "execution_count": 56,
   "id": "fd6b6863-8884-45e7-b0a0-904108e26a64",
   "metadata": {},
   "outputs": [
    {
     "data": {
      "text/plain": [
       "array(['issue_d', 'loan_status', 'term_month', 'sub_grade', 'verification_status', 'url',\n",
       "       'addr_state'], dtype='<U19')"
      ]
     },
     "execution_count": 56,
     "metadata": {},
     "output_type": "execute_result"
    }
   ],
   "source": [
    "header_str"
   ]
  },
  {
   "cell_type": "code",
   "execution_count": 57,
   "id": "177f041f-2077-4e71-9c48-f8b11661960d",
   "metadata": {},
   "outputs": [
    {
     "data": {
      "text/plain": [
       "array(['Verified', 'Source Verified', 'Verified', ..., 'Source Verified', 'Source Verified', ''],\n",
       "      dtype='<U69')"
      ]
     },
     "execution_count": 57,
     "metadata": {},
     "output_type": "execute_result"
    }
   ],
   "source": [
    "loan_data_str[:,4]"
   ]
  },
  {
   "cell_type": "code",
   "execution_count": 58,
   "id": "181be352-6c3a-4e25-975d-66684615031d",
   "metadata": {},
   "outputs": [
    {
     "data": {
      "text/plain": [
       "array(['', 'Not Verified', 'Source Verified', 'Verified'], dtype='<U69')"
      ]
     },
     "execution_count": 58,
     "metadata": {},
     "output_type": "execute_result"
    }
   ],
   "source": [
    "np.unique(loan_data_str[:,4])"
   ]
  },
  {
   "cell_type": "code",
   "execution_count": 59,
   "id": "3452149d-946a-4c84-96f4-d41e5a934480",
   "metadata": {},
   "outputs": [],
   "source": [
    "loan_data_str[:,4] = np.where((loan_data_str[:,4] == '') | (loan_data_str[:,4] == 'Not Verified'),0,1)"
   ]
  },
  {
   "cell_type": "code",
   "execution_count": 60,
   "id": "3c1f65a1-ebbe-4d7a-9453-b3e33a97bc7d",
   "metadata": {},
   "outputs": [
    {
     "data": {
      "text/plain": [
       "array(['0', '1'], dtype='<U69')"
      ]
     },
     "execution_count": 60,
     "metadata": {},
     "output_type": "execute_result"
    }
   ],
   "source": [
    "np.unique(loan_data_str[:,4])"
   ]
  },
  {
   "cell_type": "markdown",
   "id": "21a7d5f6-d6b3-43fe-a5d1-7a550e482c0e",
   "metadata": {},
   "source": [
    "**Manipulating col_str**\n",
    "URL"
   ]
  },
  {
   "cell_type": "code",
   "execution_count": 61,
   "id": "67650011-d4f8-49cf-8339-e363c134ce99",
   "metadata": {},
   "outputs": [
    {
     "data": {
      "text/plain": [
       "array(['https://www.lendingclub.com/browse/loanDetail.action?loan_id=48010226',\n",
       "       'https://www.lendingclub.com/browse/loanDetail.action?loan_id=57693261',\n",
       "       'https://www.lendingclub.com/browse/loanDetail.action?loan_id=59432726', ...,\n",
       "       'https://www.lendingclub.com/browse/loanDetail.action?loan_id=50415990',\n",
       "       'https://www.lendingclub.com/browse/loanDetail.action?loan_id=46154151',\n",
       "       'https://www.lendingclub.com/browse/loanDetail.action?loan_id=66055249'], dtype='<U69')"
      ]
     },
     "execution_count": 61,
     "metadata": {},
     "output_type": "execute_result"
    }
   ],
   "source": [
    "loan_data_str[:,5]"
   ]
  },
  {
   "cell_type": "code",
   "execution_count": 62,
   "id": "ef8048bd-a28a-4bac-9155-1e999d50f7e5",
   "metadata": {},
   "outputs": [],
   "source": [
    "loan_data_str[:,5] = np.chararray.strip(loan_data_str[:,5],\"https://www.lendingclub.com/browse/loanDetail.action?loan_id=\")"
   ]
  },
  {
   "cell_type": "code",
   "execution_count": 63,
   "id": "de57c1f0-a924-4900-b95f-c34401f3506b",
   "metadata": {},
   "outputs": [
    {
     "data": {
      "text/plain": [
       "array(['48010226', '57693261', '59432726', ..., '50415990', '46154151', '66055249'], dtype='<U69')"
      ]
     },
     "execution_count": 63,
     "metadata": {},
     "output_type": "execute_result"
    }
   ],
   "source": [
    "loan_data_str[:,5]"
   ]
  },
  {
   "cell_type": "code",
   "execution_count": 64,
   "id": "a6ece234-16af-4114-9968-90ab14ae8a05",
   "metadata": {},
   "outputs": [
    {
     "data": {
      "text/plain": [
       "array(['id', 'issue_d', 'loan_amnt', 'loan_status', 'funded_amnt', 'term', 'int_rate',\n",
       "       'installment', 'grade', 'sub_grade', 'verification_status', 'url', 'addr_state',\n",
       "       'total_pymnt'], dtype='<U19')"
      ]
     },
     "execution_count": 64,
     "metadata": {},
     "output_type": "execute_result"
    }
   ],
   "source": [
    "w_header"
   ]
  },
  {
   "cell_type": "code",
   "execution_count": 65,
   "id": "3497212e-4f49-470b-9207-187d73b49dd1",
   "metadata": {},
   "outputs": [
    {
     "data": {
      "text/plain": [
       "array(['id', 'loan_amnt', 'funded_amnt', 'int_rate', 'installment', 'total_pymnt'], dtype='<U19')"
      ]
     },
     "execution_count": 65,
     "metadata": {},
     "output_type": "execute_result"
    }
   ],
   "source": [
    "header_num"
   ]
  },
  {
   "cell_type": "code",
   "execution_count": 66,
   "id": "7d9d0606-889f-461b-8e34-9c4821d65258",
   "metadata": {},
   "outputs": [
    {
     "data": {
      "text/plain": [
       "'id'"
      ]
     },
     "execution_count": 66,
     "metadata": {},
     "output_type": "execute_result"
    }
   ],
   "source": [
    "header_num[0]"
   ]
  },
  {
   "cell_type": "code",
   "execution_count": 67,
   "id": "44efd21a-0068-41f1-af0f-5d809c6eb27e",
   "metadata": {},
   "outputs": [
    {
     "data": {
      "text/plain": [
       "numpy.ndarray"
      ]
     },
     "execution_count": 67,
     "metadata": {},
     "output_type": "execute_result"
    }
   ],
   "source": [
    "type(loan_data_num[:,0])"
   ]
  },
  {
   "cell_type": "code",
   "execution_count": 68,
   "id": "f4b0fa1d-009e-4676-b64d-030e6fabd876",
   "metadata": {},
   "outputs": [
    {
     "data": {
      "text/plain": [
       "True"
      ]
     },
     "execution_count": 68,
     "metadata": {},
     "output_type": "execute_result"
    }
   ],
   "source": [
    "np.array_equal(loan_data_num[:,0],loan_data_str[:,5].astype(dtype = np.int32))"
   ]
  },
  {
   "cell_type": "code",
   "execution_count": 69,
   "id": "a0f546e8-59de-4797-b1f4-dce6cb79da6c",
   "metadata": {},
   "outputs": [],
   "source": [
    "loan_data_str = np.delete(loan_data_str,5,axis = 1)"
   ]
  },
  {
   "cell_type": "code",
   "execution_count": 70,
   "id": "f091a99c-0e12-4314-ad55-f45e9c99aada",
   "metadata": {},
   "outputs": [],
   "source": [
    "header_str = np.delete(header_str, 5)"
   ]
  },
  {
   "cell_type": "code",
   "execution_count": 71,
   "id": "cab7f308-6425-4b89-868a-e283fafff18a",
   "metadata": {},
   "outputs": [
    {
     "data": {
      "text/plain": [
       "array(['CA', 'NY', 'PA', ..., 'CA', 'OH', 'IL'], dtype='<U69')"
      ]
     },
     "execution_count": 71,
     "metadata": {},
     "output_type": "execute_result"
    }
   ],
   "source": [
    "loan_data_str[:,5]"
   ]
  },
  {
   "cell_type": "code",
   "execution_count": 72,
   "id": "14cc4a12-eacf-4255-80fe-8fec9602780b",
   "metadata": {},
   "outputs": [
    {
     "data": {
      "text/plain": [
       "array([48010226., 57693261., 59432726., ..., 50415990., 46154151., 66055249.])"
      ]
     },
     "execution_count": 72,
     "metadata": {},
     "output_type": "execute_result"
    }
   ],
   "source": [
    "loan_data_num[:,0]"
   ]
  },
  {
   "cell_type": "code",
   "execution_count": 73,
   "id": "27085025-2479-443a-b364-60a587d931c5",
   "metadata": {},
   "outputs": [
    {
     "data": {
      "text/plain": [
       "array(['id', 'loan_amnt', 'funded_amnt', 'int_rate', 'installment', 'total_pymnt'], dtype='<U19')"
      ]
     },
     "execution_count": 73,
     "metadata": {},
     "output_type": "execute_result"
    }
   ],
   "source": [
    "header_num"
   ]
  },
  {
   "cell_type": "markdown",
   "id": "92eef608-00bd-4714-aeca-428e303f5852",
   "metadata": {},
   "source": [
    "**Manipulating col_str**\n",
    "State Address"
   ]
  },
  {
   "cell_type": "code",
   "execution_count": 74,
   "id": "8fe92a96-6932-4527-9504-9ebb04916883",
   "metadata": {},
   "outputs": [
    {
     "data": {
      "text/plain": [
       "array(['issue_d', 'loan_status', 'term_month', 'sub_grade', 'verification_status', 'addr_state'],\n",
       "      dtype='<U19')"
      ]
     },
     "execution_count": 74,
     "metadata": {},
     "output_type": "execute_result"
    }
   ],
   "source": [
    "header_str"
   ]
  },
  {
   "cell_type": "code",
   "execution_count": 75,
   "id": "85368aa2-0a00-4e26-98e2-df14de77b174",
   "metadata": {},
   "outputs": [
    {
     "data": {
      "text/plain": [
       "array(['CA', 'NY', 'PA', ..., 'CA', 'OH', 'IL'], dtype='<U69')"
      ]
     },
     "execution_count": 75,
     "metadata": {},
     "output_type": "execute_result"
    }
   ],
   "source": [
    "loan_data_str[:,5]"
   ]
  },
  {
   "cell_type": "code",
   "execution_count": 76,
   "id": "9123b46f-0119-451b-b6e8-96babe65d37b",
   "metadata": {},
   "outputs": [
    {
     "data": {
      "text/plain": [
       "50"
      ]
     },
     "execution_count": 76,
     "metadata": {},
     "output_type": "execute_result"
    }
   ],
   "source": [
    "np.unique(loan_data_str[:,5]).size"
   ]
  },
  {
   "cell_type": "code",
   "execution_count": 77,
   "id": "5ce1164f-f5d3-4eef-ac6c-4bb651c60207",
   "metadata": {},
   "outputs": [
    {
     "data": {
      "text/plain": [
       "(array(['', 'AK', 'AL', 'AR', 'AZ', 'CA', 'CO', 'CT', 'DC', 'DE', 'FL', 'GA', 'HI', 'IL', 'IN',\n",
       "        'KS', 'KY', 'LA', 'MA', 'MD', 'ME', 'MI', 'MN', 'MO', 'MS', 'MT', 'NC', 'ND', 'NE', 'NH',\n",
       "        'NJ', 'NM', 'NV', 'NY', 'OH', 'OK', 'OR', 'PA', 'RI', 'SC', 'SD', 'TN', 'TX', 'UT', 'VA',\n",
       "        'VT', 'WA', 'WI', 'WV', 'WY'], dtype='<U69'),\n",
       " array([ 500,   26,  119,   74,  220, 1336,  201,  143,   27,   27,  690,  321,   44,  389,  152,\n",
       "          84,   84,  116,  210,  222,   10,  267,  156,  160,   61,   28,  261,   16,   25,   58,\n",
       "         341,   57,  130,  777,  312,   83,  108,  320,   40,  107,   24,  143,  758,   74,  242,\n",
       "          17,  216,  148,   49,   27]))"
      ]
     },
     "execution_count": 77,
     "metadata": {},
     "output_type": "execute_result"
    }
   ],
   "source": [
    "np.unique(loan_data_str[:,5],return_counts=True)"
   ]
  },
  {
   "cell_type": "code",
   "execution_count": 78,
   "id": "cf92b037-497e-435d-b6ec-ccb808f7383f",
   "metadata": {},
   "outputs": [],
   "source": [
    "states_name , states_count = np.unique(loan_data_str[:,5],return_counts=True)"
   ]
  },
  {
   "cell_type": "code",
   "execution_count": 79,
   "id": "3aebf72e-e2e9-4125-b0e4-61044c10f628",
   "metadata": {},
   "outputs": [],
   "source": [
    "states_count_sort = np.argsort(-states_count)"
   ]
  },
  {
   "cell_type": "code",
   "execution_count": 80,
   "id": "455b0877-ff2c-491b-b574-3dfaa5dbea2a",
   "metadata": {},
   "outputs": [
    {
     "data": {
      "text/plain": [
       "(array(['CA', 'NY', 'TX', 'FL', '', 'IL', 'NJ', 'GA', 'PA', 'OH', 'MI', 'NC', 'VA', 'MD', 'AZ',\n",
       "        'WA', 'MA', 'CO', 'MO', 'MN', 'IN', 'WI', 'CT', 'TN', 'NV', 'AL', 'LA', 'OR', 'SC', 'KY',\n",
       "        'KS', 'OK', 'UT', 'AR', 'MS', 'NH', 'NM', 'WV', 'HI', 'RI', 'MT', 'DE', 'DC', 'WY', 'AK',\n",
       "        'NE', 'SD', 'VT', 'ND', 'ME'], dtype='<U69'),\n",
       " array([1336,  777,  758,  690,  500,  389,  341,  321,  320,  312,  267,  261,  242,  222,  220,\n",
       "         216,  210,  201,  160,  156,  152,  148,  143,  143,  130,  119,  116,  108,  107,   84,\n",
       "          84,   83,   74,   74,   61,   58,   57,   49,   44,   40,   28,   27,   27,   27,   26,\n",
       "          25,   24,   17,   16,   10]))"
      ]
     },
     "execution_count": 80,
     "metadata": {},
     "output_type": "execute_result"
    }
   ],
   "source": [
    "states_name[states_count_sort],states_count[states_count_sort]"
   ]
  },
  {
   "cell_type": "code",
   "execution_count": 81,
   "id": "30f58246-c7a7-4067-b107-33d0806cc267",
   "metadata": {},
   "outputs": [],
   "source": [
    "states_west = np.array(['WA', 'OR','CA','NV','ID','MT', 'WY','UT','CO', 'AZ','NM','HI','AK'])\n",
    "states_south = np.array(['TX','OK','AR','LA','MS','AL','TN','KY','FL','GA','SC','NC','VA','WV','MD','DE','DC'])\n",
    "states_midwest = np.array(['ND','SD','NE','KS','MN','IA','MO','WI','IL','IN','MI','OH'])\n",
    "states_east = np.array(['PA','NY','NJ','CT','MA','VT','NH','ME','RI'])"
   ]
  },
  {
   "cell_type": "code",
   "execution_count": 82,
   "id": "eb982e6f-c1ad-46aa-b2f6-e0df5ccf71c6",
   "metadata": {},
   "outputs": [],
   "source": [
    "loan_data_str[:,5] = np.where(loan_data_str[:,5]=='',0,loan_data_str[:,5])"
   ]
  },
  {
   "cell_type": "code",
   "execution_count": 83,
   "id": "aeda047c-e739-4cc8-a444-a1f2188dfced",
   "metadata": {},
   "outputs": [],
   "source": [
    "loan_data_str[:,5] = np.where(np.isin(loan_data_str[:,5],states_west),1,loan_data_str[:,5])\n",
    "loan_data_str[:,5] = np.where(np.isin(loan_data_str[:,5],states_south),2,loan_data_str[:,5])\n",
    "loan_data_str[:,5] = np.where(np.isin(loan_data_str[:,5],states_midwest),3,loan_data_str[:,5])\n",
    "loan_data_str[:,5] = np.where(np.isin(loan_data_str[:,5],states_east),4,loan_data_str[:,5])"
   ]
  },
  {
   "cell_type": "code",
   "execution_count": 84,
   "id": "1f6c87ab-be3d-4a44-817f-9267e5d4a0ee",
   "metadata": {},
   "outputs": [
    {
     "data": {
      "text/plain": [
       "array(['0', '1', '2', '3', '4'], dtype='<U69')"
      ]
     },
     "execution_count": 84,
     "metadata": {},
     "output_type": "execute_result"
    }
   ],
   "source": [
    "np.unique(loan_data_str[:,5])"
   ]
  },
  {
   "cell_type": "markdown",
   "id": "3fe94ca4-a175-47b2-87bb-b2ebe07a2ec3",
   "metadata": {},
   "source": [
    "**Manipulating col_str**\n",
    "Converting to Number"
   ]
  },
  {
   "cell_type": "code",
   "execution_count": 85,
   "id": "77667a29-cf10-4b49-bac3-5727c84823d9",
   "metadata": {},
   "outputs": [
    {
     "data": {
      "text/plain": [
       "array([['5', '1', '36', '13', '1', '1'],\n",
       "       ['0', '1', '36', '5', '1', '4'],\n",
       "       ['9', '1', '36', '10', '1', '4'],\n",
       "       ...,\n",
       "       ['6', '1', '36', '5', '1', '1'],\n",
       "       ['4', '1', '36', '17', '1', '3'],\n",
       "       ['12', '1', '36', '4', '0', '3']], dtype='<U69')"
      ]
     },
     "execution_count": 85,
     "metadata": {},
     "output_type": "execute_result"
    }
   ],
   "source": [
    "loan_data_str"
   ]
  },
  {
   "cell_type": "code",
   "execution_count": 86,
   "id": "9621d76f-3f2a-4ff9-a2ea-652841febaec",
   "metadata": {},
   "outputs": [],
   "source": [
    "loan_data_str = loan_data_str.astype(int)"
   ]
  },
  {
   "cell_type": "code",
   "execution_count": 87,
   "id": "782fdb10-7342-4888-9ec9-c79b5a5c84ff",
   "metadata": {},
   "outputs": [
    {
     "data": {
      "text/plain": [
       "array([[ 5,  1, 36, 13,  1,  1],\n",
       "       [ 0,  1, 36,  5,  1,  4],\n",
       "       [ 9,  1, 36, 10,  1,  4],\n",
       "       ...,\n",
       "       [ 6,  1, 36,  5,  1,  1],\n",
       "       [ 4,  1, 36, 17,  1,  3],\n",
       "       [12,  1, 36,  4,  0,  3]])"
      ]
     },
     "execution_count": 87,
     "metadata": {},
     "output_type": "execute_result"
    }
   ],
   "source": [
    "loan_data_str"
   ]
  },
  {
   "cell_type": "markdown",
   "id": "9f6d04c7-0f96-4ea9-a7ad-f1d325c10e78",
   "metadata": {},
   "source": [
    "**Checkpoint String**"
   ]
  },
  {
   "cell_type": "code",
   "execution_count": 88,
   "id": "280f3a96-320a-418c-90b2-a7b7e980bed2",
   "metadata": {},
   "outputs": [],
   "source": [
    "def checkpoint(file_name, checkpoint_header, checkpoint_data):\n",
    "    np.savez(file_name, header = checkpoint_header, data = checkpoint_data)\n",
    "    checkpoint_variable = np.load(file_name + \".npz\")\n",
    "    return(checkpoint_variable)"
   ]
  },
  {
   "cell_type": "code",
   "execution_count": 89,
   "id": "ceaa233c-836e-4430-a56e-124afe15f90b",
   "metadata": {},
   "outputs": [],
   "source": [
    "checkpoint_str = checkpoint('Checkpoint-Strings',header_str,loan_data_str)"
   ]
  },
  {
   "cell_type": "code",
   "execution_count": 90,
   "id": "b0db0331-78cb-47bc-ae53-7b8c57c0344d",
   "metadata": {},
   "outputs": [
    {
     "data": {
      "text/plain": [
       "array(['issue_d', 'loan_status', 'term_month', 'sub_grade', 'verification_status', 'addr_state'],\n",
       "      dtype='<U19')"
      ]
     },
     "execution_count": 90,
     "metadata": {},
     "output_type": "execute_result"
    }
   ],
   "source": [
    "checkpoint_str['header']"
   ]
  },
  {
   "cell_type": "code",
   "execution_count": 91,
   "id": "237145bc-31c6-4823-9d2f-511e2fc84a4a",
   "metadata": {},
   "outputs": [
    {
     "data": {
      "text/plain": [
       "array([[ 5,  1, 36, 13,  1,  1],\n",
       "       [ 0,  1, 36,  5,  1,  4],\n",
       "       [ 9,  1, 36, 10,  1,  4],\n",
       "       ...,\n",
       "       [ 6,  1, 36,  5,  1,  1],\n",
       "       [ 4,  1, 36, 17,  1,  3],\n",
       "       [12,  1, 36,  4,  0,  3]])"
      ]
     },
     "execution_count": 91,
     "metadata": {},
     "output_type": "execute_result"
    }
   ],
   "source": [
    "checkpoint_str['data']"
   ]
  },
  {
   "cell_type": "code",
   "execution_count": 92,
   "id": "b7672035-970f-48a9-8cb6-6e410a3717e6",
   "metadata": {},
   "outputs": [
    {
     "data": {
      "text/plain": [
       "True"
      ]
     },
     "execution_count": 92,
     "metadata": {},
     "output_type": "execute_result"
    }
   ],
   "source": [
    "np.array_equal(checkpoint_str['data'],loan_data_str)"
   ]
  },
  {
   "cell_type": "markdown",
   "id": "7c47fbb5-63c3-43e5-8bbf-316c9d3dce57",
   "metadata": {},
   "source": [
    "**Manipulating col_num**"
   ]
  },
  {
   "cell_type": "code",
   "execution_count": 93,
   "id": "a94e8c79-2b03-4edd-aece-87afd4099f73",
   "metadata": {},
   "outputs": [
    {
     "data": {
      "text/plain": [
       "array([[48010226.  ,    35000.  ,    35000.  ,       13.33,     1184.86,     9452.96],\n",
       "       [57693261.  ,    30000.  ,    30000.  , 68616520.  ,      938.57,     4679.7 ],\n",
       "       [59432726.  ,    15000.  ,    15000.  , 68616520.  ,      494.86,     1969.83],\n",
       "       ...,\n",
       "       [50415990.  ,    10000.  ,    10000.  , 68616520.  , 68616520.  ,     2185.64],\n",
       "       [46154151.  , 68616520.  ,    10000.  ,       16.55,      354.3 ,     3199.4 ],\n",
       "       [66055249.  ,    10000.  ,    10000.  , 68616520.  ,      309.97,      301.9 ]])"
      ]
     },
     "execution_count": 93,
     "metadata": {},
     "output_type": "execute_result"
    }
   ],
   "source": [
    "loan_data_num"
   ]
  },
  {
   "cell_type": "code",
   "execution_count": 94,
   "id": "ca1c3b4f-08f8-458c-bd23-e13a86f712b1",
   "metadata": {},
   "outputs": [
    {
     "data": {
      "text/plain": [
       "0"
      ]
     },
     "execution_count": 94,
     "metadata": {},
     "output_type": "execute_result"
    }
   ],
   "source": [
    "np.isnan(loan_data_num).sum()"
   ]
  },
  {
   "cell_type": "code",
   "execution_count": 95,
   "id": "f1c6253b-0225-4283-bd5d-81f34164a56e",
   "metadata": {},
   "outputs": [
    {
     "data": {
      "text/plain": [
       "array(['id', 'loan_amnt', 'funded_amnt', 'int_rate', 'installment', 'total_pymnt'], dtype='<U19')"
      ]
     },
     "execution_count": 95,
     "metadata": {},
     "output_type": "execute_result"
    }
   ],
   "source": [
    "header_num"
   ]
  },
  {
   "cell_type": "markdown",
   "id": "72944753-74bf-41ea-bd52-c3d2a1da7d9c",
   "metadata": {},
   "source": [
    "**Manipulating col_num**\n",
    "ID"
   ]
  },
  {
   "cell_type": "code",
   "execution_count": 96,
   "id": "99dabb24-84a6-4a62-a892-4e3f15522516",
   "metadata": {},
   "outputs": [
    {
     "data": {
      "text/plain": [
       "68616520.0"
      ]
     },
     "execution_count": 96,
     "metadata": {},
     "output_type": "execute_result"
    }
   ],
   "source": [
    "temp_fill"
   ]
  },
  {
   "cell_type": "code",
   "execution_count": 97,
   "id": "45e93f5e-5305-445f-9cbd-a63472e5af25",
   "metadata": {},
   "outputs": [
    {
     "data": {
      "text/plain": [
       "0"
      ]
     },
     "execution_count": 97,
     "metadata": {},
     "output_type": "execute_result"
    }
   ],
   "source": [
    "np.isin(loan_data_num[:,0],temp_fill).sum()"
   ]
  },
  {
   "cell_type": "code",
   "execution_count": 98,
   "id": "b2c8bd0c-8dae-431f-bf3d-3760d46be89d",
   "metadata": {},
   "outputs": [
    {
     "data": {
      "text/plain": [
       "array(['id', 'loan_amnt', 'funded_amnt', 'int_rate', 'installment', 'total_pymnt'], dtype='<U19')"
      ]
     },
     "execution_count": 98,
     "metadata": {},
     "output_type": "execute_result"
    }
   ],
   "source": [
    "header_num"
   ]
  },
  {
   "cell_type": "code",
   "execution_count": 99,
   "id": "2840f908-54cd-45b1-965d-7e31c88296a7",
   "metadata": {},
   "outputs": [
    {
     "data": {
      "text/plain": [
       "array([[  373332.  ,     1000.  ,     1000.  ,        6.  ,       31.42,        0.  ],\n",
       "       [54015809.19,    15273.46,    15311.04,       16.62,      440.92,     3143.85],\n",
       "       [68616519.  ,    35000.  ,    35000.  ,       28.99,     1372.97,    41913.62]])"
      ]
     },
     "execution_count": 99,
     "metadata": {},
     "output_type": "execute_result"
    }
   ],
   "source": [
    "temp_stats[:,col_num]"
   ]
  },
  {
   "cell_type": "markdown",
   "id": "146e0d1b-57e9-4d2e-a786-8a99240f9c20",
   "metadata": {},
   "source": [
    "**Manipulating col_num**\n",
    "Founded Amnt"
   ]
  },
  {
   "cell_type": "code",
   "execution_count": 100,
   "id": "0510e368-d66a-4d94-99b7-936a006a6f58",
   "metadata": {},
   "outputs": [
    {
     "data": {
      "text/plain": [
       "array([35000., 30000., 15000., ..., 10000., 10000., 10000.])"
      ]
     },
     "execution_count": 100,
     "metadata": {},
     "output_type": "execute_result"
    }
   ],
   "source": [
    "loan_data_num[:,2]"
   ]
  },
  {
   "cell_type": "code",
   "execution_count": 101,
   "id": "1f900ac4-4f57-459c-86bf-a41fa20bcb13",
   "metadata": {},
   "outputs": [],
   "source": [
    "loan_data_num[:,2] = np.where(loan_data_num[:,2] == temp_fill,temp_stats[0,col_num[2]],loan_data_num[:,2])"
   ]
  },
  {
   "cell_type": "code",
   "execution_count": 102,
   "id": "9d542d6c-5841-4417-a357-0957ecb0dc33",
   "metadata": {},
   "outputs": [
    {
     "data": {
      "text/plain": [
       "array([35000., 30000., 15000., ..., 10000., 10000., 10000.])"
      ]
     },
     "execution_count": 102,
     "metadata": {},
     "output_type": "execute_result"
    }
   ],
   "source": [
    "loan_data_num[:,2]"
   ]
  },
  {
   "cell_type": "markdown",
   "id": "fe83aa09-2249-4c1f-9318-cd6eaf8ed211",
   "metadata": {},
   "source": [
    "**Manipulating col_num**\n",
    "Loan Amnt,int Rate, installment, total payment"
   ]
  },
  {
   "cell_type": "code",
   "execution_count": 103,
   "id": "f3a6bb4d-18ec-4212-80b1-1296702a5501",
   "metadata": {},
   "outputs": [
    {
     "data": {
      "text/plain": [
       "array(['id', 'loan_amnt', 'funded_amnt', 'int_rate', 'installment', 'total_pymnt'], dtype='<U19')"
      ]
     },
     "execution_count": 103,
     "metadata": {},
     "output_type": "execute_result"
    }
   ],
   "source": [
    "header_num"
   ]
  },
  {
   "cell_type": "code",
   "execution_count": 104,
   "id": "19c7c101-ca2a-42fb-b0b8-105187996038",
   "metadata": {},
   "outputs": [],
   "source": [
    "for i in [1,3,4,5]:\n",
    "    loan_data_num[:,i] = np.where(loan_data_num[:,i] == temp_fill,temp_stats[2,col_num[i]],loan_data_num[:,i])"
   ]
  },
  {
   "cell_type": "code",
   "execution_count": 105,
   "id": "bb20246e-56b2-4486-a9d4-85e194cac4d4",
   "metadata": {},
   "outputs": [
    {
     "data": {
      "text/plain": [
       "array([[48010226.  ,    35000.  ,    35000.  ,       13.33,     1184.86,     9452.96],\n",
       "       [57693261.  ,    30000.  ,    30000.  ,       28.99,      938.57,     4679.7 ],\n",
       "       [59432726.  ,    15000.  ,    15000.  ,       28.99,      494.86,     1969.83],\n",
       "       ...,\n",
       "       [50415990.  ,    10000.  ,    10000.  ,       28.99,     1372.97,     2185.64],\n",
       "       [46154151.  ,    35000.  ,    10000.  ,       16.55,      354.3 ,     3199.4 ],\n",
       "       [66055249.  ,    10000.  ,    10000.  ,       28.99,      309.97,      301.9 ]])"
      ]
     },
     "execution_count": 105,
     "metadata": {},
     "output_type": "execute_result"
    }
   ],
   "source": [
    "loan_data_num"
   ]
  },
  {
   "cell_type": "markdown",
   "id": "3038a131-0fee-4297-ac06-7f0dc98932aa",
   "metadata": {},
   "source": [
    "**Currency Exchange**\n",
    "The Exchange rate"
   ]
  },
  {
   "cell_type": "code",
   "execution_count": 106,
   "id": "4466145f-6b30-4dc0-81e9-02ff41a91030",
   "metadata": {},
   "outputs": [],
   "source": [
    "EUR_USD = np.genfromtxt(\"EUR-USD.csv\" , delimiter = ',' , autostrip = True, skip_header = 1, usecols = 3)"
   ]
  },
  {
   "cell_type": "code",
   "execution_count": 107,
   "id": "e5532193-22fc-4049-9cab-0968b436678c",
   "metadata": {},
   "outputs": [
    {
     "data": {
      "text/plain": [
       "array([1.13, 1.12, 1.08, 1.11, 1.1 , 1.12, 1.09, 1.13, 1.13, 1.1 , 1.06, 1.09])"
      ]
     },
     "execution_count": 107,
     "metadata": {},
     "output_type": "execute_result"
    }
   ],
   "source": [
    "EUR_USD"
   ]
  },
  {
   "cell_type": "code",
   "execution_count": 108,
   "id": "302844bf-6c41-435a-bb99-0adfea012270",
   "metadata": {},
   "outputs": [
    {
     "data": {
      "text/plain": [
       "array([ 5,  0,  9, ...,  6,  4, 12])"
      ]
     },
     "execution_count": 108,
     "metadata": {},
     "output_type": "execute_result"
    }
   ],
   "source": [
    "loan_data_str[:,0]"
   ]
  },
  {
   "cell_type": "code",
   "execution_count": 109,
   "id": "929bc0d3-b95d-4851-9f87-b51b0c308cba",
   "metadata": {},
   "outputs": [],
   "source": [
    "exchange_rate = loan_data_str[:,0]"
   ]
  },
  {
   "cell_type": "code",
   "execution_count": 110,
   "id": "9d2def42-8781-4940-ad60-f011ef1b9c17",
   "metadata": {},
   "outputs": [
    {
     "data": {
      "text/plain": [
       "array([ 5,  0,  9, ...,  6,  4, 12])"
      ]
     },
     "execution_count": 110,
     "metadata": {},
     "output_type": "execute_result"
    }
   ],
   "source": [
    "exchange_rate"
   ]
  },
  {
   "cell_type": "code",
   "execution_count": 111,
   "id": "ea26a487-f6cf-42d8-817f-1069760857a7",
   "metadata": {},
   "outputs": [],
   "source": [
    "for i in range(1,13):\n",
    "    exchange_rate = np.where(exchange_rate == i,EUR_USD[i-1],exchange_rate)\n",
    "\n",
    "exchange_rate = np.where(exchange_rate == 0,np.mean(EUR_USD),exchange_rate)\n"
   ]
  },
  {
   "cell_type": "code",
   "execution_count": 112,
   "id": "91cdac65-b209-44f5-b17b-5e28ea3628b3",
   "metadata": {},
   "outputs": [
    {
     "data": {
      "text/plain": [
       "array([1.1 , 1.11, 1.13, ..., 1.12, 1.11, 1.09])"
      ]
     },
     "execution_count": 112,
     "metadata": {},
     "output_type": "execute_result"
    }
   ],
   "source": [
    "exchange_rate"
   ]
  },
  {
   "cell_type": "code",
   "execution_count": 113,
   "id": "d3519aaa-2196-4240-b31c-1312c04747e7",
   "metadata": {},
   "outputs": [
    {
     "data": {
      "text/plain": [
       "(10000,)"
      ]
     },
     "execution_count": 113,
     "metadata": {},
     "output_type": "execute_result"
    }
   ],
   "source": [
    "exchange_rate.shape"
   ]
  },
  {
   "cell_type": "code",
   "execution_count": 114,
   "id": "aaa024da-1a79-41d3-82a0-27ad5f947289",
   "metadata": {},
   "outputs": [
    {
     "data": {
      "text/plain": [
       "(10000, 6)"
      ]
     },
     "execution_count": 114,
     "metadata": {},
     "output_type": "execute_result"
    }
   ],
   "source": [
    "loan_data_num.shape"
   ]
  },
  {
   "cell_type": "code",
   "execution_count": 115,
   "id": "fdf23fd0-7bac-49ca-87d6-a396e33b1eeb",
   "metadata": {},
   "outputs": [],
   "source": [
    "exchange_rate = np.reshape(exchange_rate,(10000,1))"
   ]
  },
  {
   "cell_type": "code",
   "execution_count": 116,
   "id": "8c318922-ed56-4026-ad12-349a7fcf8401",
   "metadata": {},
   "outputs": [],
   "source": [
    "loan_data_num = np.hstack((loan_data_num,exchange_rate))"
   ]
  },
  {
   "cell_type": "code",
   "execution_count": 117,
   "id": "51886bf0-95ec-42bf-8c7b-a9d6884efd18",
   "metadata": {},
   "outputs": [
    {
     "data": {
      "text/plain": [
       "array([[48010226.  ,    35000.  ,    35000.  , ...,     1184.86,     9452.96,        1.1 ],\n",
       "       [57693261.  ,    30000.  ,    30000.  , ...,      938.57,     4679.7 ,        1.11],\n",
       "       [59432726.  ,    15000.  ,    15000.  , ...,      494.86,     1969.83,        1.13],\n",
       "       ...,\n",
       "       [50415990.  ,    10000.  ,    10000.  , ...,     1372.97,     2185.64,        1.12],\n",
       "       [46154151.  ,    35000.  ,    10000.  , ...,      354.3 ,     3199.4 ,        1.11],\n",
       "       [66055249.  ,    10000.  ,    10000.  , ...,      309.97,      301.9 ,        1.09]])"
      ]
     },
     "execution_count": 117,
     "metadata": {},
     "output_type": "execute_result"
    }
   ],
   "source": [
    "loan_data_num"
   ]
  },
  {
   "cell_type": "code",
   "execution_count": 118,
   "id": "1cf8e3d6-7746-49b2-b7ac-c6fba2a5c433",
   "metadata": {},
   "outputs": [],
   "source": [
    "header_num = np.concatenate((header_num,np.array(['exchange_rate'])))"
   ]
  },
  {
   "cell_type": "code",
   "execution_count": 119,
   "id": "bafb563e-841b-4570-978c-2306854f38ee",
   "metadata": {},
   "outputs": [
    {
     "data": {
      "text/plain": [
       "array(['id', 'loan_amnt', 'funded_amnt', 'int_rate', 'installment', 'total_pymnt', 'exchange_rate'],\n",
       "      dtype='<U19')"
      ]
     },
     "execution_count": 119,
     "metadata": {},
     "output_type": "execute_result"
    }
   ],
   "source": [
    "header_num"
   ]
  },
  {
   "cell_type": "markdown",
   "id": "82156d93-1e9f-4b5b-be0f-5d99c7718fdc",
   "metadata": {},
   "source": [
    "**Currency Exchange**\n",
    "USD to EUR"
   ]
  },
  {
   "cell_type": "code",
   "execution_count": 120,
   "id": "a3ebf7b6-c53b-43b9-a927-7edb4bca1094",
   "metadata": {},
   "outputs": [
    {
     "data": {
      "text/plain": [
       "array(['id', 'loan_amnt', 'funded_amnt', 'int_rate', 'installment', 'total_pymnt', 'exchange_rate'],\n",
       "      dtype='<U19')"
      ]
     },
     "execution_count": 120,
     "metadata": {},
     "output_type": "execute_result"
    }
   ],
   "source": [
    "header_num"
   ]
  },
  {
   "cell_type": "code",
   "execution_count": 121,
   "id": "c4071cf6-dd0c-4f71-9ee5-0ca500837226",
   "metadata": {},
   "outputs": [],
   "source": [
    "col_dollar = np.array([1,2,4,5])"
   ]
  },
  {
   "cell_type": "code",
   "execution_count": 122,
   "id": "36cd3cf0-ac4d-4384-88a7-663155b6e035",
   "metadata": {},
   "outputs": [
    {
     "data": {
      "text/plain": [
       "array([1.1 , 1.11, 1.13, ..., 1.12, 1.11, 1.09])"
      ]
     },
     "execution_count": 122,
     "metadata": {},
     "output_type": "execute_result"
    }
   ],
   "source": [
    "loan_data_num[:,6]"
   ]
  },
  {
   "cell_type": "code",
   "execution_count": 123,
   "id": "9dd1ffe9-2202-43fc-bf98-e7223194a352",
   "metadata": {},
   "outputs": [],
   "source": [
    "for i in col_dollar:\n",
    "    loan_data_num = np.hstack((loan_data_num,np.reshape(loan_data_num[:,i]/loan_data_num[:,6],(10000,1))))"
   ]
  },
  {
   "cell_type": "code",
   "execution_count": 124,
   "id": "fc057184-ad9d-406d-b505-6fbce0f031bc",
   "metadata": {},
   "outputs": [
    {
     "data": {
      "text/plain": [
       "array([[48010226.  ,    35000.  ,    35000.  , ...,    31933.3 ,     1081.04,     8624.69],\n",
       "       [57693261.  ,    30000.  ,    30000.  , ...,    27132.46,      848.86,     4232.39],\n",
       "       [59432726.  ,    15000.  ,    15000.  , ...,    13326.3 ,      439.64,     1750.04],\n",
       "       ...,\n",
       "       [50415990.  ,    10000.  ,    10000.  , ...,     8910.3 ,     1223.36,     1947.47],\n",
       "       [46154151.  ,    35000.  ,    10000.  , ...,     8997.4 ,      318.78,     2878.63],\n",
       "       [66055249.  ,    10000.  ,    10000.  , ...,     9145.8 ,      283.49,      276.11]])"
      ]
     },
     "execution_count": 124,
     "metadata": {},
     "output_type": "execute_result"
    }
   ],
   "source": [
    "loan_data_num"
   ]
  },
  {
   "cell_type": "markdown",
   "id": "65d2d62c-4abb-4c5b-ac0b-2f3ffa978156",
   "metadata": {},
   "source": [
    "**Expanding Header**"
   ]
  },
  {
   "cell_type": "code",
   "execution_count": 140,
   "id": "897cdb46-0f0b-4366-870f-97dfe78b3f62",
   "metadata": {},
   "outputs": [],
   "source": [
    "header_num_additional = np.array([col_num + '_EUR' for col_num in header_num[col_dollar]])"
   ]
  },
  {
   "cell_type": "code",
   "execution_count": 127,
   "id": "a5e77965-7ecf-43e2-b69d-7d5623d66aac",
   "metadata": {},
   "outputs": [
    {
     "data": {
      "text/plain": [
       "array(['loan_amnt_EUR', 'funded_amnt_EUR', 'installment_EUR', 'total_pymnt_EUR'], dtype='<U15')"
      ]
     },
     "execution_count": 127,
     "metadata": {},
     "output_type": "execute_result"
    }
   ],
   "source": [
    "header_num_additional"
   ]
  },
  {
   "cell_type": "code",
   "execution_count": 128,
   "id": "19207dc9-3b6d-4c70-ba1a-da39021316ed",
   "metadata": {},
   "outputs": [],
   "source": [
    "header_num = np.concatenate((header_num,header_num_additional))"
   ]
  },
  {
   "cell_type": "code",
   "execution_count": 129,
   "id": "0fc305e6-a18e-449b-ab7e-8be22870c493",
   "metadata": {},
   "outputs": [
    {
     "data": {
      "text/plain": [
       "array(['id', 'loan_amnt', 'funded_amnt', 'int_rate', 'installment', 'total_pymnt', 'exchange_rate',\n",
       "       'loan_amnt_EUR', 'funded_amnt_EUR', 'installment_EUR', 'total_pymnt_EUR'], dtype='<U19')"
      ]
     },
     "execution_count": 129,
     "metadata": {},
     "output_type": "execute_result"
    }
   ],
   "source": [
    "header_num"
   ]
  },
  {
   "cell_type": "code",
   "execution_count": 130,
   "id": "b3b46e11-c437-45e9-8aaa-b613f7a7b3bb",
   "metadata": {},
   "outputs": [],
   "source": [
    "header_num[col_dollar] = np.array([col_num + '_USD' for col_num in header_num[col_dollar]])"
   ]
  },
  {
   "cell_type": "code",
   "execution_count": 132,
   "id": "1d276f5b-d730-4234-acc9-34085ee28a63",
   "metadata": {},
   "outputs": [
    {
     "data": {
      "text/plain": [
       "array(['id', 'loan_amnt_USD', 'funded_amnt_USD', 'int_rate', 'installment_USD', 'total_pymnt_USD',\n",
       "       'exchange_rate', 'loan_amnt_EUR', 'funded_amnt_EUR', 'installment_EUR', 'total_pymnt_EUR'],\n",
       "      dtype='<U19')"
      ]
     },
     "execution_count": 132,
     "metadata": {},
     "output_type": "execute_result"
    }
   ],
   "source": [
    "header_num"
   ]
  },
  {
   "cell_type": "code",
   "execution_count": 133,
   "id": "35bbf613-8dd9-4914-b7ab-a2a5ad5028c6",
   "metadata": {},
   "outputs": [],
   "source": [
    "column_index_order = [0,1,7,2,8,3,4,9,5,10,6]"
   ]
  },
  {
   "cell_type": "code",
   "execution_count": 135,
   "id": "818bb5b9-0b35-4c41-9cc4-d7fee378323c",
   "metadata": {},
   "outputs": [],
   "source": [
    "header_num = header_num[column_index_order]"
   ]
  },
  {
   "cell_type": "code",
   "execution_count": 136,
   "id": "f7bd495c-9b54-4cdb-8e16-70349bb296a6",
   "metadata": {},
   "outputs": [
    {
     "data": {
      "text/plain": [
       "array([[48010226.  ,    35000.  ,    35000.  , ...,    31933.3 ,     1081.04,     8624.69],\n",
       "       [57693261.  ,    30000.  ,    30000.  , ...,    27132.46,      848.86,     4232.39],\n",
       "       [59432726.  ,    15000.  ,    15000.  , ...,    13326.3 ,      439.64,     1750.04],\n",
       "       ...,\n",
       "       [50415990.  ,    10000.  ,    10000.  , ...,     8910.3 ,     1223.36,     1947.47],\n",
       "       [46154151.  ,    35000.  ,    10000.  , ...,     8997.4 ,      318.78,     2878.63],\n",
       "       [66055249.  ,    10000.  ,    10000.  , ...,     9145.8 ,      283.49,      276.11]])"
      ]
     },
     "execution_count": 136,
     "metadata": {},
     "output_type": "execute_result"
    }
   ],
   "source": [
    "loan_data_num"
   ]
  },
  {
   "cell_type": "code",
   "execution_count": 137,
   "id": "c9b31bb0-4016-4dc1-9e6a-2e7723819b97",
   "metadata": {},
   "outputs": [],
   "source": [
    "loan_data_num = loan_data_num[:,column_index_order]"
   ]
  },
  {
   "cell_type": "code",
   "execution_count": 139,
   "id": "0b2e8013-841a-4d08-8fe8-4b7a9058cb4b",
   "metadata": {},
   "outputs": [
    {
     "data": {
      "text/plain": [
       "array([[48010226.  ,    35000.  ,    31933.3 , ...,     9452.96,     8624.69,        1.1 ],\n",
       "       [57693261.  ,    30000.  ,    27132.46, ...,     4679.7 ,     4232.39,        1.11],\n",
       "       [59432726.  ,    15000.  ,    13326.3 , ...,     1969.83,     1750.04,        1.13],\n",
       "       ...,\n",
       "       [50415990.  ,    10000.  ,     8910.3 , ...,     2185.64,     1947.47,        1.12],\n",
       "       [46154151.  ,    35000.  ,    31490.9 , ...,     3199.4 ,     2878.63,        1.11],\n",
       "       [66055249.  ,    10000.  ,     9145.8 , ...,      301.9 ,      276.11,        1.09]])"
      ]
     },
     "execution_count": 139,
     "metadata": {},
     "output_type": "execute_result"
    }
   ],
   "source": [
    "loan_data_num"
   ]
  },
  {
   "cell_type": "markdown",
   "id": "2947483b-3bbe-47a8-be39-b6fa141acbda",
   "metadata": {},
   "source": [
    "**int Rate**"
   ]
  },
  {
   "cell_type": "code",
   "execution_count": 141,
   "id": "06d9b96d-798e-4870-887c-fae37d6fda2f",
   "metadata": {},
   "outputs": [
    {
     "data": {
      "text/plain": [
       "array([13.33, 28.99, 28.99, ..., 28.99, 16.55, 28.99])"
      ]
     },
     "execution_count": 141,
     "metadata": {},
     "output_type": "execute_result"
    }
   ],
   "source": [
    "loan_data_num[:,5]"
   ]
  },
  {
   "cell_type": "code",
   "execution_count": 142,
   "id": "92def9f7-f858-4e74-929b-28b5420fd22c",
   "metadata": {},
   "outputs": [],
   "source": [
    "loan_data_num[:,5] = loan_data_num[:,5]/100"
   ]
  },
  {
   "cell_type": "code",
   "execution_count": 143,
   "id": "09e50b06-e010-4c8a-8aa0-9f59a291d25f",
   "metadata": {},
   "outputs": [
    {
     "data": {
      "text/plain": [
       "array([0.13, 0.29, 0.29, ..., 0.29, 0.17, 0.29])"
      ]
     },
     "execution_count": 143,
     "metadata": {},
     "output_type": "execute_result"
    }
   ],
   "source": [
    "loan_data_num[:,5]"
   ]
  },
  {
   "cell_type": "markdown",
   "id": "a7443dd4-c14a-4ad7-9025-c4a9d050ed33",
   "metadata": {},
   "source": [
    "**Checkpoint Numeric**"
   ]
  },
  {
   "cell_type": "code",
   "execution_count": 144,
   "id": "4f95c5f6-5ef3-4b7d-84a6-660a915c0810",
   "metadata": {},
   "outputs": [],
   "source": [
    "checkpoint_num = checkpoint('Checkpoint-Numeric',header_num,loan_data_num)"
   ]
  },
  {
   "cell_type": "code",
   "execution_count": 145,
   "id": "6d591979-a08a-4e24-a889-61c89e657c01",
   "metadata": {},
   "outputs": [
    {
     "data": {
      "text/plain": [
       "(array(['id', 'loan_amnt_USD', 'loan_amnt_EUR', 'funded_amnt_USD', 'funded_amnt_EUR', 'int_rate',\n",
       "        'installment_USD', 'installment_EUR', 'total_pymnt_USD', 'total_pymnt_EUR', 'exchange_rate'],\n",
       "       dtype='<U19'),\n",
       " array([[48010226.  ,    35000.  ,    31933.3 , ...,     9452.96,     8624.69,        1.1 ],\n",
       "        [57693261.  ,    30000.  ,    27132.46, ...,     4679.7 ,     4232.39,        1.11],\n",
       "        [59432726.  ,    15000.  ,    13326.3 , ...,     1969.83,     1750.04,        1.13],\n",
       "        ...,\n",
       "        [50415990.  ,    10000.  ,     8910.3 , ...,     2185.64,     1947.47,        1.12],\n",
       "        [46154151.  ,    35000.  ,    31490.9 , ...,     3199.4 ,     2878.63,        1.11],\n",
       "        [66055249.  ,    10000.  ,     9145.8 , ...,      301.9 ,      276.11,        1.09]]))"
      ]
     },
     "execution_count": 145,
     "metadata": {},
     "output_type": "execute_result"
    }
   ],
   "source": [
    "checkpoint_num['header'],checkpoint_num['data']"
   ]
  },
  {
   "cell_type": "markdown",
   "id": "e5f8f773-6131-4a96-9bbc-b84b3f42e85a",
   "metadata": {},
   "source": [
    "**Complete Dataset**"
   ]
  },
  {
   "cell_type": "code",
   "execution_count": 146,
   "id": "68d3340a-f92e-4ce9-bd34-c93244dbffe6",
   "metadata": {},
   "outputs": [
    {
     "data": {
      "text/plain": [
       "(10000, 11)"
      ]
     },
     "execution_count": 146,
     "metadata": {},
     "output_type": "execute_result"
    }
   ],
   "source": [
    "checkpoint_num['data'].shape"
   ]
  },
  {
   "cell_type": "code",
   "execution_count": 147,
   "id": "b161a95a-386e-4f5f-97de-71caca15d596",
   "metadata": {},
   "outputs": [
    {
     "data": {
      "text/plain": [
       "(10000, 6)"
      ]
     },
     "execution_count": 147,
     "metadata": {},
     "output_type": "execute_result"
    }
   ],
   "source": [
    "checkpoint_str['data'].shape"
   ]
  },
  {
   "cell_type": "code",
   "execution_count": 148,
   "id": "0db6a4ac-4eb7-46e6-9ebd-67b9193a5f74",
   "metadata": {},
   "outputs": [],
   "source": [
    "loan_data = np.hstack((checkpoint_num['data'],checkpoint_str['data']))"
   ]
  },
  {
   "cell_type": "code",
   "execution_count": 149,
   "id": "98bc01f4-1d8d-44dd-96dd-d5543a71c742",
   "metadata": {},
   "outputs": [
    {
     "data": {
      "text/plain": [
       "array([[48010226.  ,    35000.  ,    31933.3 , ...,       13.  ,        1.  ,        1.  ],\n",
       "       [57693261.  ,    30000.  ,    27132.46, ...,        5.  ,        1.  ,        4.  ],\n",
       "       [59432726.  ,    15000.  ,    13326.3 , ...,       10.  ,        1.  ,        4.  ],\n",
       "       ...,\n",
       "       [50415990.  ,    10000.  ,     8910.3 , ...,        5.  ,        1.  ,        1.  ],\n",
       "       [46154151.  ,    35000.  ,    31490.9 , ...,       17.  ,        1.  ,        3.  ],\n",
       "       [66055249.  ,    10000.  ,     9145.8 , ...,        4.  ,        0.  ,        3.  ]])"
      ]
     },
     "execution_count": 149,
     "metadata": {},
     "output_type": "execute_result"
    }
   ],
   "source": [
    "loan_data"
   ]
  },
  {
   "cell_type": "code",
   "execution_count": 151,
   "id": "32432af9-ddb0-48e9-a45e-486cd783ae4d",
   "metadata": {},
   "outputs": [
    {
     "data": {
      "text/plain": [
       "0"
      ]
     },
     "execution_count": 151,
     "metadata": {},
     "output_type": "execute_result"
    }
   ],
   "source": [
    "np.isnan(loan_data).sum()"
   ]
  },
  {
   "cell_type": "code",
   "execution_count": 152,
   "id": "3b809f56-89a8-4028-b8ba-760a88ab47c5",
   "metadata": {},
   "outputs": [],
   "source": [
    "header_full = np.concatenate((checkpoint_num['header'],checkpoint_str['header']))"
   ]
  },
  {
   "cell_type": "code",
   "execution_count": 153,
   "id": "81088aa8-b9bf-419f-b436-f6ccd75ee8a7",
   "metadata": {},
   "outputs": [
    {
     "data": {
      "text/plain": [
       "array(['id', 'loan_amnt_USD', 'loan_amnt_EUR', 'funded_amnt_USD', 'funded_amnt_EUR', 'int_rate',\n",
       "       'installment_USD', 'installment_EUR', 'total_pymnt_USD', 'total_pymnt_EUR', 'exchange_rate',\n",
       "       'issue_d', 'loan_status', 'term_month', 'sub_grade', 'verification_status', 'addr_state'],\n",
       "      dtype='<U19')"
      ]
     },
     "execution_count": 153,
     "metadata": {},
     "output_type": "execute_result"
    }
   ],
   "source": [
    "header_full"
   ]
  },
  {
   "cell_type": "markdown",
   "id": "c66efb97-c722-4446-a5c9-05b9f5287ab9",
   "metadata": {},
   "source": [
    "**Sorting Dataset**"
   ]
  },
  {
   "cell_type": "code",
   "execution_count": 158,
   "id": "51c8175b-37c1-49e0-8479-0f2b11af4056",
   "metadata": {},
   "outputs": [],
   "source": [
    "loan_data = loan_data[np.argsort(loan_data[:,0])]"
   ]
  },
  {
   "cell_type": "code",
   "execution_count": 159,
   "id": "e318f004-f7d6-430b-bc8c-fc368cf8010a",
   "metadata": {},
   "outputs": [
    {
     "data": {
      "text/plain": [
       "array([[  373332.  ,     9950.  ,     9038.08, ...,       21.  ,        0.  ,        1.  ],\n",
       "       [  575239.  ,    12000.  ,    10900.2 , ...,       25.  ,        1.  ,        2.  ],\n",
       "       [  707689.  ,    10000.  ,     8924.3 , ...,       13.  ,        1.  ,        0.  ],\n",
       "       ...,\n",
       "       [68614880.  ,     5600.  ,     5121.65, ...,        8.  ,        1.  ,        1.  ],\n",
       "       [68615915.  ,     4000.  ,     3658.32, ...,       10.  ,        1.  ,        2.  ],\n",
       "       [68616519.  ,    21600.  ,    19754.93, ...,        3.  ,        0.  ,        2.  ]])"
      ]
     },
     "execution_count": 159,
     "metadata": {},
     "output_type": "execute_result"
    }
   ],
   "source": [
    "loan_data"
   ]
  },
  {
   "cell_type": "code",
   "execution_count": 160,
   "id": "9b9ebaa1-83f8-4f5e-a005-28583e22583e",
   "metadata": {},
   "outputs": [
    {
     "data": {
      "text/plain": [
       "array([   0,    1,    2, ..., 9997, 9998, 9999])"
      ]
     },
     "execution_count": 160,
     "metadata": {},
     "output_type": "execute_result"
    }
   ],
   "source": [
    "np.argsort(loan_data[:,0])"
   ]
  },
  {
   "cell_type": "markdown",
   "id": "a2794692-85e1-4372-8d1b-b29d3bf8f5c0",
   "metadata": {},
   "source": [
    "**Saving Dataset**"
   ]
  },
  {
   "cell_type": "code",
   "execution_count": 162,
   "id": "5bdbf4cf-7619-40b2-8c80-c4d37663183f",
   "metadata": {},
   "outputs": [],
   "source": [
    "loan_data = np.vstack((header_full,loan_data))"
   ]
  },
  {
   "cell_type": "code",
   "execution_count": 163,
   "id": "a4844e2f-ca8b-406b-b40f-ac930b67a8b0",
   "metadata": {},
   "outputs": [],
   "source": [
    "np.savetxt(\"loan-data-preprocessed.csv\",loan_data, delimiter = ',', fmt = '%s')"
   ]
  },
  {
   "cell_type": "code",
   "execution_count": null,
   "id": "5966c6bc-c64a-457d-b7ba-5e1367e81f80",
   "metadata": {},
   "outputs": [],
   "source": []
  }
 ],
 "metadata": {
  "kernelspec": {
   "display_name": "Python 3 (ipykernel)",
   "language": "python",
   "name": "python3"
  },
  "language_info": {
   "codemirror_mode": {
    "name": "ipython",
    "version": 3
   },
   "file_extension": ".py",
   "mimetype": "text/x-python",
   "name": "python",
   "nbconvert_exporter": "python",
   "pygments_lexer": "ipython3",
   "version": "3.11.7"
  }
 },
 "nbformat": 4,
 "nbformat_minor": 5
}
